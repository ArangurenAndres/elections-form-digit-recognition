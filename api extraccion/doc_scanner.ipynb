{
 "cells": [
  {
   "cell_type": "code",
   "execution_count": 61,
   "metadata": {},
   "outputs": [],
   "source": [
    "import cv2\n",
    "import matplotlib.pyplot as plt\n",
    "import numpy as np\n",
    "from imutils.perspective import four_point_transform\n",
    "from PIL import Image, ImageOps\n",
    "from PIL import Image\n",
    "import numpy as np\n",
    "import matplotlib.pyplot as plt\n"
   ]
  },
  {
   "cell_type": "code",
   "execution_count": 104,
   "metadata": {},
   "outputs": [],
   "source": [
    "from keras.models import load_model"
   ]
  },
  {
   "cell_type": "markdown",
   "metadata": {},
   "source": [
    "### def : scan_document, used to scan the photos taken using a cellphone camera. The function output consists on PIL image of the form in fixed dimension"
   ]
  },
  {
   "cell_type": "code",
   "execution_count": 2,
   "metadata": {},
   "outputs": [],
   "source": [
    "def scan_document(path):\n",
    "\n",
    "    height = 1000\n",
    "    width = 600\n",
    "    green = (0, 255, 0)\n",
    "    # Insert path of photo\n",
    "    image = cv2.imread(path)\n",
    "    image = cv2.resize(image, (width, height))\n",
    "    orig_image = image.copy()\n",
    "    #gray = cv2.cvtColor(image, cv2.COLOR_BGR2GRAY) # convert the image to gray scale\n",
    "    blur = cv2.GaussianBlur(image, (5, 5), 0) # Add Gaussian blur\n",
    "    edged = cv2.Canny(blur, 75, 200)\n",
    "    # Show the image and the edges\n",
    "    #cv2.imshow('Original image:', image)\n",
    "    #cv2.imshow('Edged:', edged)\n",
    "    #cv2.waitKey(0) \n",
    "    #cv2.destroyAllWindows()\n",
    "    contours, _ = cv2.findContours(edged, cv2.RETR_LIST, cv2.CHAIN_APPROX_SIMPLE)\n",
    "    contours = sorted(contours, key=cv2.contourArea, reverse=True)\n",
    "    # Show the image and all the contours\n",
    "    #cv2.imshow(\"Image\", image)\n",
    "    #cv2.drawContours(image, contours, -1, green, 3)\n",
    "    #cv2.imshow(\"All contours\", image)\n",
    "    #cv2.waitKey(0)\n",
    "    #cv2.destroyAllWindows()\n",
    "    # go through each contour\n",
    "    for contour in contours:\n",
    "        # we approximate the contour\n",
    "        peri = cv2.arcLength(contour, True)\n",
    "        approx = cv2.approxPolyDP(contour, 0.05 * peri, True)\n",
    "        # if we found a countour with 4 points we break the for loop\n",
    "        # (we can assume that we have found our document)\n",
    "        if len(approx) == 4:\n",
    "            doc_cnts = approx\n",
    "            break\n",
    "\n",
    "    # We draw the contours on the original image not the modified one\n",
    "    #cv2.drawContours(orig_image, [doc_cnts], -1, green, 3)\n",
    "    #cv2.imshow(\"Contours of the document\", orig_image)\n",
    "    # apply warp perspective to get the top-down view\n",
    "    warped = four_point_transform(orig_image, doc_cnts.reshape(4, 2))\n",
    "    # convert the warped image to grayscale\n",
    "    #warped = cv2.cvtColor(warped, cv2.IMREAD_UNCHANGED)\n",
    "    ## Resize Image to desired output dimension this value has to be monitored given the dimensions of the implemented form E14\n",
    "    re = cv2.resize(warped,(300,1100))\n",
    "    print(\"Image dimension\",re.shape)\n",
    "    #cv2.imshow(\"Scanned\", cv2.resize(warped, (300, 1100)))\n",
    "    #cv2.waitKey(0)\n",
    "    #cv2.destroyAllWindows()\n",
    "    #Convert array to PIL Image\n",
    "    img = Image.fromarray(re)\n",
    "    #Uncomment this line to save the output scanned image\n",
    "    #img.save(\"scanned/scan_1.jpeg\")\n",
    "    print(\"Photo was scanned :)\")\n",
    "    return img"
   ]
  },
  {
   "cell_type": "markdown",
   "metadata": {},
   "source": [
    "## def : extract sector, the function extracts the three main regions of interest of the form."
   ]
  },
  {
   "cell_type": "code",
   "execution_count": 3,
   "metadata": {},
   "outputs": [],
   "source": [
    "def extract_sectors(img):\n",
    "    #img= Image.open(path)\n",
    "    ##Coordinates of sector 1\n",
    "    l_1,t_1,r_1,b_1=188,375,252,525\n",
    "    coord_1 = (l_1, t_1, r_1, b_1)\n",
    "    sec_1 = img.crop(coord_1)\n",
    "    #Coordinates of sector 2\n",
    "    l_2,t_2,r_2,b_2 =40,328,250,350\n",
    "    coord_2 = (l_2, t_2, r_2, b_2)\n",
    "    sec_2 = img.crop(coord_2)\n",
    "    #Coordinates of sector 3 : QR code\n",
    "    l_3,t_3,r_3,b_3 =35,107,114,182\n",
    "    coord_3 = (l_3, t_3, r_3, b_3)\n",
    "    sec_3 = img.crop(coord_3)\n",
    "    \n",
    "    secs = [sec_1,sec_2,sec_3]\n",
    "\n",
    "\n",
    "    return secs"
   ]
  },
  {
   "cell_type": "markdown",
   "metadata": {},
   "source": [
    "## def: qr_decode , detect and decode QR code"
   ]
  },
  {
   "cell_type": "code",
   "execution_count": 4,
   "metadata": {},
   "outputs": [],
   "source": [
    "## For the moment it is better to decode the QR code from the original capture instead of the scanned image\n",
    "## This aspect has to be verified using several samples atl 3\n",
    "\n",
    "def qr_decode(path):\n",
    "    arr = cv2.imread(path)\n",
    "\n",
    "    decoder = cv2.QRCodeDetector()\n",
    "    data, points, _ = decoder.detectAndDecode(arr)\n",
    "    if points is not None:\n",
    "        print('Decoded data: ' + data)\n",
    " \n",
    "        #points = points[0]\n",
    "        #for i in range(len(points)):\n",
    "            #pt1 = [int(val) for val in points[i]]\n",
    "            #pt2 = [int(val) for val in points[(i + 1) % 4]]\n",
    "            #cv2.line(arr, pt1, pt2, color=(255, 0, 0), thickness=3)\n",
    " \n",
    "        #cv2.imshow('Detected QR code', arr)\n",
    "        #cv2.waitKey(0)\n",
    "        #cv2.destroyAllWindows()\n",
    "    return data"
   ]
  },
  {
   "cell_type": "markdown",
   "metadata": {},
   "source": [
    "### def: bounding_numbers, used to extract the bounding box coordinates and crops of the respective digits contained in the two voting regions of the scanned form"
   ]
  },
  {
   "cell_type": "code",
   "execution_count": 5,
   "metadata": {},
   "outputs": [],
   "source": [
    "\n",
    "\n",
    "def bounding_numbers(img):\n",
    "    crops=[]\n",
    "    coords= []\n",
    "    ad = 3\n",
    "\n",
    "    inputImage = img\n",
    "    inputImageCopy = img.copy()\n",
    "    grayscaleImage = cv2.cvtColor(img, cv2.COLOR_BGR2GRAY)\n",
    "    threshValue, binaryImage = cv2.threshold(grayscaleImage, 0, 255, cv2.THRESH_BINARY_INV+cv2.THRESH_OTSU)\n",
    "    plt.imshow(binaryImage)\n",
    "    contours,hierarchy = cv2.findContours(binaryImage, cv2.RETR_EXTERNAL, cv2.CHAIN_APPROX_SIMPLE)[-2:]\n",
    "    # Look for the outer bounding boxes (no children):\n",
    "    for _, c in enumerate(contours):\n",
    "\n",
    "        # Get the bounding rectangle of the current contour:\n",
    "        boundRect = cv2.boundingRect(c)\n",
    "\n",
    "        # Get the bounding rectangle data:\n",
    "        rectX = boundRect[0]\n",
    "        rectY = boundRect[1]\n",
    "        rectWidth = boundRect[2]\n",
    "        rectHeight = boundRect[3]\n",
    "\n",
    "        # Estimate the bounding rect area:\n",
    "        rectArea = rectWidth * rectHeight\n",
    "\n",
    "        # Set a min area threshold\n",
    "        minArea = 50\n",
    "\n",
    "        # Filter blobs by area:\n",
    "        if rectArea > minArea:\n",
    "            temp_coord = boundRect\n",
    "            coords.append(temp_coord)\n",
    "            \n",
    "\n",
    "            # Draw bounding box:\n",
    "            color = (0, 255, 0)\n",
    "            cv2.rectangle(inputImageCopy, (int(rectX), int(rectY)),\n",
    "                      (int(rectX + rectWidth), int(rectY + rectHeight)), color, 2)\n",
    "            cv2.imshow(\"Bounding Boxes\", inputImageCopy)\n",
    "\n",
    "            # Crop bounding box:\n",
    "            currentCrop = inputImage[rectY:rectY+rectHeight+ad,rectX:rectX+rectWidth]\n",
    "            crops.append(currentCrop)\n",
    "            cv2.imshow(\"Current Crop\", currentCrop)\n",
    "            cv2.waitKey(0)\n",
    "            cv2.destroyAllWindows()\n",
    "            \n",
    "\n",
    "    return coords,crops"
   ]
  },
  {
   "cell_type": "code",
   "execution_count": 6,
   "metadata": {},
   "outputs": [],
   "source": [
    "def get_unique_vals(coords):\n",
    "\n",
    "    cords_y=[]\n",
    "    vals = []\n",
    "    for i in range(len(coords)):\n",
    "        temp = coords[i][1]\n",
    "        cords_y.append(temp)\n",
    "    #specify threshold\n",
    "    th =5\n",
    "    for i in range(len(cords_y)-1):\n",
    "        if abs(cords_y[i]-cords_y[i+1])>th:\n",
    "            temp=cords_y[i]\n",
    "            vals.append(temp)\n",
    "    vals.append(cords_y[-1])\n",
    "    return vals"
   ]
  },
  {
   "cell_type": "code",
   "execution_count": 7,
   "metadata": {},
   "outputs": [],
   "source": [
    "##From the logic list extract the index of 1s and then fill the dictionary in that specific position given by the keys list\n",
    "def logic_fill(vals):\n",
    "    #Create intervals that specify each column threshold\n",
    "    \n",
    "    ref  = [0]*6\n",
    "    #create logic list which is constant for every form\n",
    "    ranks=[]\n",
    "    for v in vals:\n",
    "        v_in = v-2\n",
    "        v_f = v_in+10\n",
    "        temp = (v_in,v_f)\n",
    "        ranks.append(temp)\n",
    "    ranks\n",
    "\n",
    "    #Update logic list\n",
    "    for cord in vals:\n",
    "        for id,val in enumerate(ranks):\n",
    "            if cord>val[0] and cord<val[1]:\n",
    "                ref[id]=1\n",
    "    return ref"
   ]
  },
  {
   "cell_type": "code",
   "execution_count": 8,
   "metadata": {},
   "outputs": [],
   "source": [
    "def extract_vals(vals,cords):\n",
    "    t_index = []\n",
    "    t_crops = []\n",
    "    for ref in vals:\n",
    "        temp_index=[]\n",
    "        temp_crops=[]\n",
    "        for index,value in enumerate(cords):\n",
    "            if (value[1] > ref-2 and value[1]<ref+2):\n",
    "                temp_index.append(index)\n",
    "                temp_crops.append(value)\n",
    "        t_index.append(temp_index)\n",
    "        t_crops.append(temp_crops)\n",
    "    return t_index,t_crops"
   ]
  },
  {
   "cell_type": "code",
   "execution_count": 30,
   "metadata": {},
   "outputs": [],
   "source": [
    "## Order digits from left to right\n",
    "def extract_final_ids(t_index,t_crops):\n",
    "    fin = []\n",
    "    for i in range(len(t_crops)):\n",
    "        temp = [x for _,x in sorted(zip(t_crops[i],t_index[i]))]\n",
    "        fin.append(temp)\n",
    "    return fin  "
   ]
  },
  {
   "cell_type": "code",
   "execution_count": 31,
   "metadata": {},
   "outputs": [],
   "source": [
    "def create_batch(fin_ids,crops):\n",
    "    crop_batch = []\n",
    "    for i in range(len(fin_ids)):\n",
    "        batch= []\n",
    "        temp = fin_ids[i]\n",
    "        for v in temp:\n",
    "            batch.append(crops[v])\n",
    "        crop_batch.append(batch)\n",
    "    return crop_batch"
   ]
  },
  {
   "cell_type": "code",
   "execution_count": 62,
   "metadata": {},
   "outputs": [],
   "source": [
    "## Once created the batch lets visualize the numbers by row\n",
    "## Enter the crop_batcn and desired row [1:5]\n",
    "def plot_digits(batch,n):\n",
    "    width=6\n",
    "    height=6\n",
    "    rows = 1\n",
    "    cols = len(batch[n])\n",
    "    axes=[]\n",
    "    fig=plt.figure()\n",
    "\n",
    "    for a in range(rows*cols):\n",
    "        axes.append( fig.add_subplot(rows, cols, a+1) )\n",
    "        subplot_title=(\"Digit: \"+str(a))\n",
    "        axes[-1].set_title(subplot_title)  \n",
    "        plt.imshow(batch[n][a])\n",
    "    fig.tight_layout()    \n",
    "    plt.show()\n"
   ]
  },
  {
   "cell_type": "markdown",
   "metadata": {},
   "source": [
    "## Test functions"
   ]
  },
  {
   "cell_type": "code",
   "execution_count": 9,
   "metadata": {},
   "outputs": [],
   "source": [
    "path = \"fotos\\img_1.jpg\""
   ]
  },
  {
   "cell_type": "code",
   "execution_count": 10,
   "metadata": {},
   "outputs": [
    {
     "name": "stdout",
     "output_type": "stream",
     "text": [
      "Image dimension (1100, 300, 3)\n",
      "Photo was scanned :)\n"
     ]
    }
   ],
   "source": [
    "#Scan document\n",
    "img = scan_document(path)"
   ]
  },
  {
   "cell_type": "code",
   "execution_count": 46,
   "metadata": {},
   "outputs": [],
   "source": [
    "#Extract regions\n",
    "secs  = extract_sectors(img)\n",
    "secs_arr = list(map(np.asarray,secs))\n",
    "sec_1,sec_2,sec_3 = secs_arr[0],secs_arr[1],secs_arr[2]\n"
   ]
  },
  {
   "cell_type": "code",
   "execution_count": 12,
   "metadata": {},
   "outputs": [],
   "source": [
    "secs[0].save(\"prueba.jpg\")"
   ]
  },
  {
   "cell_type": "code",
   "execution_count": 22,
   "metadata": {},
   "outputs": [
    {
     "name": "stdout",
     "output_type": "stream",
     "text": [
      "Decoded data: 710125602010030101201\n"
     ]
    }
   ],
   "source": [
    "#Extract QR code\n",
    "qr_code = qr_decode(path)"
   ]
  },
  {
   "cell_type": "code",
   "execution_count": 40,
   "metadata": {},
   "outputs": [
    {
     "data": {
      "image/png": "[encoded data removed]",
      "text/plain": [
       "<Figure size 432x288 with 1 Axes>"
      ]
     },
     "metadata": {
      "needs_background": "light"
     },
     "output_type": "display_data"
    }
   ],
   "source": [
    "cords,crops = bounding_numbers(sec_1)"
   ]
  },
  {
   "cell_type": "code",
   "execution_count": 14,
   "metadata": {},
   "outputs": [],
   "source": [
    "vals = get_unique_vals(cords)\n"
   ]
  },
  {
   "cell_type": "code",
   "execution_count": 23,
   "metadata": {},
   "outputs": [
    {
     "name": "stdout",
     "output_type": "stream",
     "text": [
      "Rows where model detected  [1, 1, 1, 1, 1, 1]\n",
      "The following rows contain at least one detected digit [0, 1, 2, 3, 4, 5]\n"
     ]
    }
   ],
   "source": [
    "ref_vec = logic_fill(vals)\n",
    "row_idx = [i for i, v in enumerate(ref_vec) if v == 1]\n",
    "print(\"Rows where model detected \",ref_vec)\n",
    "print(\"The following rows contain at least one detected digit\",row_idx)"
   ]
  },
  {
   "cell_type": "code",
   "execution_count": 27,
   "metadata": {},
   "outputs": [],
   "source": [
    "t_index,t_crops = extract_vals(vals,cords)"
   ]
  },
  {
   "cell_type": "code",
   "execution_count": 29,
   "metadata": {},
   "outputs": [
    {
     "data": {
      "text/plain": [
       "[[2, 0, 1], [3], [4], [7], [9, 8, 10], [11, 12]]"
      ]
     },
     "execution_count": 29,
     "metadata": {},
     "output_type": "execute_result"
    }
   ],
   "source": [
    "t = extract_final_ids(t_index,t_crops)\n"
   ]
  },
  {
   "cell_type": "code",
   "execution_count": 54,
   "metadata": {},
   "outputs": [
    {
     "data": {
      "text/plain": [
       "3"
      ]
     },
     "execution_count": 54,
     "metadata": {},
     "output_type": "execute_result"
    }
   ],
   "source": [
    "batch = create_batch(t,crops)"
   ]
  },
  {
   "cell_type": "code",
   "execution_count": 89,
   "metadata": {},
   "outputs": [
    {
     "data": {
      "image/png": "[encoded data removed]",
      "text/plain": [
       "<Figure size 432x288 with 3 Axes>"
      ]
     },
     "metadata": {
      "needs_background": "light"
     },
     "output_type": "display_data"
    }
   ],
   "source": [
    "plot_digits(batch,0)\n",
    "\n",
    "\n"
   ]
  },
  {
   "cell_type": "markdown",
   "metadata": {},
   "source": [
    "## Digits processing"
   ]
  },
  {
   "cell_type": "code",
   "execution_count": 144,
   "metadata": {},
   "outputs": [
    {
     "data": {
      "text/plain": [
       "<matplotlib.image.AxesImage at 0x1f10069c1c0>"
      ]
     },
     "execution_count": 144,
     "metadata": {},
     "output_type": "execute_result"
    },
    {
     "data": {
      "image/png": "[encoded data removed]",
      "text/plain": [
       "<Figure size 432x288 with 1 Axes>"
      ]
     },
     "metadata": {
      "needs_background": "light"
     },
     "output_type": "display_data"
    }
   ],
   "source": [
    "row = 3\n",
    "img_in = batch[row][0]\n",
    "plt.imshow(img_in)"
   ]
  },
  {
   "cell_type": "code",
   "execution_count": 162,
   "metadata": {},
   "outputs": [],
   "source": [
    "## 1 Lets add a border\n",
    "#pil = Image.fromarray(img_in)\n",
    "#t = ImageOps.expand(pil,border=4,fill='white')\n",
    "arr = np.asarray(img_in)\n",
    "#plt.imshow(arr)\n",
    "#plt.show()"
   ]
  },
  {
   "cell_type": "code",
   "execution_count": 163,
   "metadata": {},
   "outputs": [
    {
     "data": {
      "image/png": "[encoded data removed]",
      "text/plain": [
       "<Figure size 432x288 with 1 Axes>"
      ]
     },
     "metadata": {
      "needs_background": "light"
     },
     "output_type": "display_data"
    }
   ],
   "source": [
    "## 1. Primero a escala de grises\n",
    "gray = cv2.cvtColor(arr, cv2.COLOR_BGR2GRAY)\n",
    "plt.imshow(arr)\n",
    "plt.show()"
   ]
  },
  {
   "cell_type": "code",
   "execution_count": 160,
   "metadata": {},
   "outputs": [
    {
     "data": {
      "image/png": "[encoded data removed]",
      "text/plain": [
       "<Figure size 432x288 with 1 Axes>"
      ]
     },
     "metadata": {
      "needs_background": "light"
     },
     "output_type": "display_data"
    }
   ],
   "source": [
    "## There is an evident lack of contrast\n",
    "import matplotlib.pyplot as plt\n",
    "plt.hist(gray.ravel(), 256, [0,100], color='crimson')\n",
    "plt.ylabel(\"Number Of Pixels\", color='crimson')\n",
    "plt.xlabel(\"Pixel Intensity- From 0-255\", color='crimson')\n",
    "plt.title(\"Histogram Showing Pixel Intensity And Corresponding Number Of Pixels\", color='crimson')\n",
    "plt.show()"
   ]
  },
  {
   "cell_type": "code",
   "execution_count": 155,
   "metadata": {},
   "outputs": [
    {
     "data": {
      "text/plain": [
       "<matplotlib.image.AxesImage at 0x1f100c77820>"
      ]
     },
     "execution_count": 155,
     "metadata": {},
     "output_type": "execute_result"
    },
    {
     "data": {
      "image/png": "[encoded data removed]",
      "text/plain": [
       "<Figure size 432x288 with 1 Axes>"
      ]
     },
     "metadata": {
      "needs_background": "light"
     },
     "output_type": "display_data"
    }
   ],
   "source": [
    "image_en = cv2.equalizeHist(gray)\n",
    "plt.imshow(image_en)"
   ]
  },
  {
   "cell_type": "code",
   "execution_count": 157,
   "metadata": {},
   "outputs": [
    {
     "data": {
      "text/plain": [
       "<matplotlib.image.AxesImage at 0x1f100d55e10>"
      ]
     },
     "execution_count": 157,
     "metadata": {},
     "output_type": "execute_result"
    },
    {
     "data": {
      "image/png": "[encoded data removed]",
      "text/plain": [
       "<Figure size 432x288 with 1 Axes>"
      ]
     },
     "metadata": {
      "needs_background": "light"
     },
     "output_type": "display_data"
    }
   ],
   "source": [
    "## 2. Apply threshold\n",
    "_,X_test_th = cv2.threshold(gray,135,255,cv2.THRESH_BINARY)\n",
    "fix  = cv2.resize(X_test_th, (28,28))\n",
    "t = np.expand_dims(fix, axis=2)\n",
    "g = np.expand_dims(t,axis=0)\n",
    "plt.imshow(fix)\n"
   ]
  },
  {
   "cell_type": "code",
   "execution_count": 106,
   "metadata": {},
   "outputs": [],
   "source": [
    "model = load_model(\"cnn_model\\digit_classifier.h5\")"
   ]
  },
  {
   "cell_type": "code",
   "execution_count": null,
   "metadata": {},
   "outputs": [],
   "source": []
  }
 ],
 "metadata": {
  "interpreter": {
   "hash": "7c4eaf364a01f0ec96e46d825783c5f7704191d647b5c5008bde523aeae7f029"
  },
  "kernelspec": {
   "display_name": "Python 3.10.2 ('master')",
   "language": "python",
   "name": "python3"
  },
  "language_info": {
   "codemirror_mode": {
    "name": "ipython",
    "version": 3
   },
   "file_extension": ".py",
   "mimetype": "text/x-python",
   "name": "python",
   "nbconvert_exporter": "python",
   "pygments_lexer": "ipython3",
   "version": "3.10.2"
  },
  "orig_nbformat": 4
 },
 "nbformat": 4,
 "nbformat_minor": 2
}
